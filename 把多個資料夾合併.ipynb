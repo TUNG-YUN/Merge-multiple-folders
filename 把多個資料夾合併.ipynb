{
 "cells": [
  {
   "cell_type": "code",
   "execution_count": null,
   "id": "1d42e382-5b9e-416b-bd80-552c0c8a5c23",
   "metadata": {},
   "outputs": [],
   "source": [
    "import os\n",
    "import shutil\n",
    "\n",
    "def merge_folders(input_folders, output_folder):\n",
    "    # 创建输出文件夹\n",
    "    os.makedirs(output_folder, exist_ok=True)\n",
    "    \n",
    "    # 遍历每个输入文件夹\n",
    "    for idx, folder in enumerate(input_folders, start=1):\n",
    "        # 遍历文件夹中的每个文件\n",
    "        for file_name in os.listdir(folder):\n",
    "            file_path = os.path.join(folder, file_name)\n",
    "            output_file_path = os.path.join(output_folder, file_name)\n",
    "            # 如果输出文件夹中已存在同名文件，则重命名并添加后缀\n",
    "            if os.path.exists(output_file_path):\n",
    "                base_name, extension = os.path.splitext(file_name)\n",
    "                new_file_name = f\"{base_name}_{1.5 + 0.3 * idx}{extension}\"\n",
    "                new_file_path = os.path.join(output_folder, new_file_name)\n",
    "                shutil.copy(file_path, new_file_path)\n",
    "            else:\n",
    "                shutil.copy(file_path, output_folder)\n",
    "    \n",
    "    print(\"Images merged into:\", output_folder)\n",
    "\n",
    "# 指定四个输入文件夹的路径\n",
    "input_folders = [\"C:/Users/Rebecca/Desktop/NPCnoblacksame\", \"C:/Users/Rebecca/Desktop/noNPCnoblacksame\"]\n",
    "\n",
    "# 指定输出文件夹的路径\n",
    "output_folder = \"C:/Users/Rebecca/Desktop/ooo\"\n",
    "\n",
    "# 合并四个文件夹中的图片到输出文件夹\n",
    "merge_folders(input_folders, output_folder)"
   ]
  }
 ],
 "metadata": {
  "kernelspec": {
   "display_name": "Python 3 (ipykernel)",
   "language": "python",
   "name": "python3"
  },
  "language_info": {
   "codemirror_mode": {
    "name": "ipython",
    "version": 3
   },
   "file_extension": ".py",
   "mimetype": "text/x-python",
   "name": "python",
   "nbconvert_exporter": "python",
   "pygments_lexer": "ipython3",
   "version": "3.10.13"
  }
 },
 "nbformat": 4,
 "nbformat_minor": 5
}
